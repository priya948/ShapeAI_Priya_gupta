{
  "nbformat": 4,
  "nbformat_minor": 0,
  "metadata": {
    "colab": {
      "name": "Priya_Gupta.ipynb",
      "provenance": []
    },
    "kernelspec": {
      "name": "python3",
      "display_name": "Python 3"
    },
    "language_info": {
      "name": "python"
    }
  },
  "cells": [
    {
      "cell_type": "code",
      "metadata": {
        "colab": {
          "base_uri": "https://localhost:8080/"
        },
        "id": "F0CCXTXzLnYs",
        "outputId": "913f1828-01eb-4b66-8317-f690e496efd6"
      },
      "source": [
        "print('Basic python and deep learning')"
      ],
      "execution_count": 1,
      "outputs": [
        {
          "output_type": "stream",
          "text": [
            "Basic python and deep learning\n"
          ],
          "name": "stdout"
        }
      ]
    },
    {
      "cell_type": "code",
      "metadata": {
        "colab": {
          "base_uri": "https://localhost:8080/"
        },
        "id": "y_XyQxa5LrVf",
        "outputId": "00aa43a4-740e-419d-eda6-f86b3a5695b2"
      },
      "source": [
        "month=12\n",
        "print(month)"
      ],
      "execution_count": 2,
      "outputs": [
        {
          "output_type": "stream",
          "text": [
            "12\n"
          ],
          "name": "stdout"
        }
      ]
    },
    {
      "cell_type": "code",
      "metadata": {
        "colab": {
          "base_uri": "https://localhost:8080/"
        },
        "id": "4l67EbRXLuop",
        "outputId": "12392d1a-7401-4042-a76d-b1a459943dcf"
      },
      "source": [
        "height , length , width = 3 , 6 , 2\n",
        "volume = height * length * width\n",
        "print(volume)"
      ],
      "execution_count": 3,
      "outputs": [
        {
          "output_type": "stream",
          "text": [
            "36\n"
          ],
          "name": "stdout"
        }
      ]
    },
    {
      "cell_type": "code",
      "metadata": {
        "colab": {
          "base_uri": "https://localhost:8080/"
        },
        "id": "cPPoWmA8Lz-c",
        "outputId": "6a8ab321-9783-445c-b63d-fd4e428b21db"
      },
      "source": [
        "rent = 3000\n",
        "rent = 1200\n",
        "rent =rent + 700\n",
        "print(rent)"
      ],
      "execution_count": 4,
      "outputs": [
        {
          "output_type": "stream",
          "text": [
            "1900\n"
          ],
          "name": "stdout"
        }
      ]
    },
    {
      "cell_type": "code",
      "metadata": {
        "colab": {
          "base_uri": "https://localhost:8080/"
        },
        "id": "_wzWvGKML0z5",
        "outputId": "0df70886-7cf5-4462-9abd-8a4b6db9fe7b"
      },
      "source": [
        "a = 2\n",
        "b = 1.7\n",
        "\n",
        "print(type(a))\n",
        "print(type(b))"
      ],
      "execution_count": 5,
      "outputs": [
        {
          "output_type": "stream",
          "text": [
            "<class 'int'>\n",
            "<class 'float'>\n"
          ],
          "name": "stdout"
        }
      ]
    },
    {
      "cell_type": "code",
      "metadata": {
        "colab": {
          "base_uri": "https://localhost:8080/"
        },
        "id": "ACWUgiOuL3f4",
        "outputId": "c43c62d1-f285-4162-8bf2-ef1357d97022"
      },
      "source": [
        "rent = 1200\n",
        "is_affordable = not(rent > 1000 and rent < 2000) \n",
        "\n",
        "print(is_affordable)"
      ],
      "execution_count": 6,
      "outputs": [
        {
          "output_type": "stream",
          "text": [
            "False\n"
          ],
          "name": "stdout"
        }
      ]
    },
    {
      "cell_type": "code",
      "metadata": {
        "colab": {
          "base_uri": "https://localhost:8080/"
        },
        "id": "u2x-caYeL53c",
        "outputId": "6b6f41a5-70be-4411-85e1-5440189d82ba"
      },
      "source": [
        "print(\"Good\" + \"morning\")\n",
        "\n",
        "print(\"Good\" + \" \" + \"morning\")"
      ],
      "execution_count": 7,
      "outputs": [
        {
          "output_type": "stream",
          "text": [
            "Goodmorning\n",
            "Good morning\n"
          ],
          "name": "stdout"
        }
      ]
    },
    {
      "cell_type": "code",
      "metadata": {
        "colab": {
          "base_uri": "https://localhost:8080/"
        },
        "id": "h6fjOHE6L8qv",
        "outputId": "20a2aff9-9455-4fcc-d78b-dbe1c8fba441"
      },
      "source": [
        "marks = 15\n",
        "subject = \"coding\"\n",
        "semester = \"first\"\n",
        "\n",
        "result = \"I scored \" + str(marks) + \" in \" + subject + \" during my \" + semester + \" semester.\"\n",
        "print(result)"
      ],
      "execution_count": 8,
      "outputs": [
        {
          "output_type": "stream",
          "text": [
            "I scored 15 in coding during my first semester.\n"
          ],
          "name": "stdout"
        }
      ]
    },
    {
      "cell_type": "code",
      "metadata": {
        "colab": {
          "base_uri": "https://localhost:8080/"
        },
        "id": "oJy_3dv5MBCZ",
        "outputId": "9c24bddb-9e71-4391-aace-d14789fd43fe"
      },
      "source": [
        "print(\"EG:1\")\n",
        "print(\"Priya has {} books\".format(27))\n",
        "\n",
        "print(\"EG:3\")\n",
        "maria_string = \"Maria loves {} and {}\"\n",
        "print(maria_string.format(\"math\",\"statistics\"))"
      ],
      "execution_count": 9,
      "outputs": [
        {
          "output_type": "stream",
          "text": [
            "EG:1\n",
            "Priya has 27 books\n",
            "EG:3\n",
            "Maria loves math and statistics\n"
          ],
          "name": "stdout"
        }
      ]
    },
    {
      "cell_type": "code",
      "metadata": {
        "colab": {
          "base_uri": "https://localhost:8080/"
        },
        "id": "nKYBILQxMD-j",
        "outputId": "3de24b28-07a3-4692-92cb-f4a396b8e8b7"
      },
      "source": [
        "students = ['shreya', 'choti', 'eram', 'ojshree', 'shraddha', 'sakshi']\n",
        "print(students[0])\n",
        "print(students[1])\n",
        "print(students[-1])\n",
        "print(students[-2])"
      ],
      "execution_count": 10,
      "outputs": [
        {
          "output_type": "stream",
          "text": [
            "shreya\n",
            "choti\n",
            "sakshi\n",
            "shraddha\n"
          ],
          "name": "stdout"
        }
      ]
    },
    {
      "cell_type": "code",
      "metadata": {
        "colab": {
          "base_uri": "https://localhost:8080/"
        },
        "id": "OgqchCK9MIe7",
        "outputId": "d4b11c1d-dc46-4e85-9836-0f28b232e56f"
      },
      "source": [
        "students = ['kajal', 'prabhat', 'rocky', 'sagar', 'sundeep', 'gaurav', 'rahul', 'priya', ]\n",
        "student = \"shivam\"\n",
        "normal = students[:4]\n",
        "flash = student[:3]\n",
        "print(normal)\n",
        "print(flash)"
      ],
      "execution_count": 11,
      "outputs": [
        {
          "output_type": "stream",
          "text": [
            "['kajal', 'prabhat', 'rocky', 'sagar']\n",
            "shi\n"
          ],
          "name": "stdout"
        }
      ]
    },
    {
      "cell_type": "code",
      "metadata": {
        "colab": {
          "base_uri": "https://localhost:8080/"
        },
        "id": "SC7LTAMKMKlQ",
        "outputId": "5c99efa0-4b52-41d8-af48-a6dc5c77aec2"
      },
      "source": [
        "students = ['sam', 'pam', 'rocky', 'austin', 'steve', 'banner', 'tony', 'bruce', \n",
        "            'henry', 'clark', 'diana']\n",
        "characters = students\n",
        "print(characters)\n",
        "characters[1]= \"peter\"\n",
        "print(characters)\n",
        "print(students)"
      ],
      "execution_count": 12,
      "outputs": [
        {
          "output_type": "stream",
          "text": [
            "['sam', 'pam', 'rocky', 'austin', 'steve', 'banner', 'tony', 'bruce', 'henry', 'clark', 'diana']\n",
            "['sam', 'peter', 'rocky', 'austin', 'steve', 'banner', 'tony', 'bruce', 'henry', 'clark', 'diana']\n",
            "['sam', 'peter', 'rocky', 'austin', 'steve', 'banner', 'tony', 'bruce', 'henry', 'clark', 'diana']\n"
          ],
          "name": "stdout"
        }
      ]
    },
    {
      "cell_type": "code",
      "metadata": {
        "colab": {
          "base_uri": "https://localhost:8080/"
        },
        "id": "so6k2hhbMNTI",
        "outputId": "2ec85b15-ea41-418d-ee05-e9f638a28019"
      },
      "source": [
        "vector = (4, 5, 9)\n",
        "print(\"x-coordinate:\", vector[0])\n",
        "print(\"y-coordinate:\", vector[1])\n",
        "print(\"z-coordinate:\", vector[2])"
      ],
      "execution_count": 13,
      "outputs": [
        {
          "output_type": "stream",
          "text": [
            "x-coordinate: 4\n",
            "y-coordinate: 5\n",
            "z-coordinate: 9\n"
          ],
          "name": "stdout"
        }
      ]
    },
    {
      "cell_type": "code",
      "metadata": {
        "colab": {
          "base_uri": "https://localhost:8080/"
        },
        "id": "LHt1FOszMQfU",
        "outputId": "09d08dd6-f5fb-47ea-974d-4f08c6c73302"
      },
      "source": [
        "from  keras.datasets import  mnist\n",
        "data = mnist.load_data()"
      ],
      "execution_count": 14,
      "outputs": [
        {
          "output_type": "stream",
          "text": [
            "Downloading data from https://storage.googleapis.com/tensorflow/tf-keras-datasets/mnist.npz\n",
            "11493376/11490434 [==============================] - 0s 0us/step\n"
          ],
          "name": "stdout"
        }
      ]
    },
    {
      "cell_type": "code",
      "metadata": {
        "id": "FbTldX7pMUOC"
      },
      "source": [
        "((X_train,  y_train),  (X_test,  y_test)) = data"
      ],
      "execution_count": 15,
      "outputs": []
    },
    {
      "cell_type": "code",
      "metadata": {
        "colab": {
          "base_uri": "https://localhost:8080/",
          "height": 268
        },
        "id": "JNIV51g_MX47",
        "outputId": "2e02e90f-8eb9-4411-f7b9-491dc1b1645d"
      },
      "source": [
        "import  matplotlib.pyplot as plt\n",
        "\n",
        "plt.subplot(221)\n",
        "plt.imshow(X_train[0], cmap=plt.get_cmap('gray'))\n",
        "plt.subplot(222)\n",
        "plt.imshow(X_train[1], cmap=plt.get_cmap('gray'))\n",
        "plt.subplot(223)\n",
        "plt.imshow(X_train[2], cmap=plt.get_cmap('gray'))\n",
        "plt.subplot(224)\n",
        "plt.imshow(X_train[3], cmap=plt.get_cmap('gray'))\n",
        "plt.show()"
      ],
      "execution_count": 16,
      "outputs": [
        {
          "output_type": "display_data",
          "data": {
            "image/png": "[encoded data removed]",
            "text/plain": [
              "<Figure size 432x288 with 4 Axes>"
            ]
          },
          "metadata": {
            "tags": [],
            "needs_background": "light"
          }
        }
      ]
    },
    {
      "cell_type": "code",
      "metadata": {
        "id": "hRkvOM00MsKz"
      },
      "source": [
        "from keras.models import Sequential\n",
        "from keras.layers import Dense"
      ],
      "execution_count": 17,
      "outputs": []
    },
    {
      "cell_type": "code",
      "metadata": {
        "id": "MZ_7orJENLJM"
      },
      "source": [
        "model = Sequential()\n",
        "model.add(Dense(32, input_dim = 28*28,activation='relu'))\n",
        "model.add(Dense(64, activation='relu'))\n",
        "model.add(Dense(10, activation='softmax'))"
      ],
      "execution_count": 18,
      "outputs": []
    },
    {
      "cell_type": "code",
      "metadata": {
        "id": "tY1aGXrqObWP"
      },
      "source": [
        "model.compile(loss='categorical_crossentropy', optimizer='adam', metrics=['accuracy'])"
      ],
      "execution_count": 19,
      "outputs": []
    },
    {
      "cell_type": "code",
      "metadata": {
        "colab": {
          "base_uri": "https://localhost:8080/"
        },
        "id": "hda0fLbAPUVu",
        "outputId": "751712de-b5a5-4360-a3f0-e7fa39c5013b"
      },
      "source": [
        "model.summary()"
      ],
      "execution_count": 20,
      "outputs": [
        {
          "output_type": "stream",
          "text": [
            "Model: \"sequential\"\n",
            "_________________________________________________________________\n",
            "Layer (type)                 Output Shape              Param #   \n",
            "=================================================================\n",
            "dense (Dense)                (None, 32)                25120     \n",
            "_________________________________________________________________\n",
            "dense_1 (Dense)              (None, 64)                2112      \n",
            "_________________________________________________________________\n",
            "dense_2 (Dense)              (None, 10)                650       \n",
            "=================================================================\n",
            "Total params: 27,882\n",
            "Trainable params: 27,882\n",
            "Non-trainable params: 0\n",
            "_________________________________________________________________\n"
          ],
          "name": "stdout"
        }
      ]
    }
  ]
}